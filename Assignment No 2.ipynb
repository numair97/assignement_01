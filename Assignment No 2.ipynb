{
 "cells": [
  {
   "cell_type": "code",
   "execution_count": 3,
   "metadata": {},
   "outputs": [
    {
     "name": "stdin",
     "output_type": "stream",
     "text": [
      "Enter your number: 5\n"
     ]
    },
    {
     "name": "stdout",
     "output_type": "stream",
     "text": [
      "Number is odd\n"
     ]
    }
   ],
   "source": [
    "#TASK02\n",
    "x = int(input('Enter your number:'))\n",
    "if (x%2)==0:\n",
    "    print('Number is even')\n",
    "else:\n",
    "    print('Number is odd')"
   ]
  },
  {
   "cell_type": "code",
   "execution_count": 11,
   "metadata": {},
   "outputs": [
    {
     "name": "stdout",
     "output_type": "stream",
     "text": [
      "The length of list is \n",
      "11\n"
     ]
    }
   ],
   "source": [
    "#TASK03\n",
    "a = [1, 1, 2, 3, 5, 8, 13, 21, 34, 55, 89]#Let suppose this list\n",
    "print('The length of list is ');print(len(a))"
   ]
  },
  {
   "cell_type": "code",
   "execution_count": 28,
   "metadata": {},
   "outputs": [
    {
     "name": "stdout",
     "output_type": "stream",
     "text": [
      "The sum of all elements is:\n",
      "232\n"
     ]
    }
   ],
   "source": [
    "#TASK04\n",
    "y=0\n",
    "a = [1, 1, 2, 3, 5, 8, 13, 21, 34, 55, 89]#Let suppose this list\n",
    "for x in a:\n",
    "    y+=x\n",
    "print(\"The sum of all elements is:\");print(y)"
   ]
  },
  {
   "cell_type": "code",
   "execution_count": 29,
   "metadata": {},
   "outputs": [
    {
     "name": "stdout",
     "output_type": "stream",
     "text": [
      "Largest element is: 89\n"
     ]
    }
   ],
   "source": [
    "#TASK05\n",
    "a = [1, 1, 2, 3, 5, 8, 13, 21, 34, 55, 89]#Let suppose this list\n",
    "a.sort()\n",
    "print(\"Largest element is:\", a[-1]) "
   ]
  },
  {
   "cell_type": "code",
   "execution_count": null,
   "metadata": {},
   "outputs": [],
   "source": [
    "#TASK06\n",
    "y=0\n",
    "a = [1, 1, 2, 3, 5, 8, 13, 21, 34, 55, 89]#Let suppose this list\n",
    "for x in a:\n",
    "    if x<5:\n",
    "        print(x)\n",
    "        \n",
    "        "
   ]
  },
  {
   "cell_type": "code",
   "execution_count": null,
   "metadata": {},
   "outputs": [],
   "source": [
    "#TASK01\n",
    "i=0\n",
    "marks = 0\n",
    "while i < 5:\n",
    "  marks+=int(input('Enter marks'))\n",
    "  i += 1\n",
    "else:\n",
    "  print(marks)"
   ]
  }
 ],
 "metadata": {
  "kernelspec": {
   "display_name": "Python 3",
   "language": "python",
   "name": "python3"
  },
  "language_info": {
   "codemirror_mode": {
    "name": "ipython",
    "version": 3
   },
   "file_extension": ".py",
   "mimetype": "text/x-python",
   "name": "python",
   "nbconvert_exporter": "python",
   "pygments_lexer": "ipython3",
   "version": "3.7.4"
  }
 },
 "nbformat": 4,
 "nbformat_minor": 4
}
