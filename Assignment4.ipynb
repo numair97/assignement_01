{
 "cells": [
  {
   "cell_type": "code",
   "execution_count": 1,
   "metadata": {},
   "outputs": [
    {
     "name": "stdout",
     "output_type": "stream",
     "text": [
      "{'first_name': 'Barood', 'last_name': 'Khan', 'age': 11, 'city': 'Isl'}\n"
     ]
    }
   ],
   "source": [
    "# Use a dictionary to store information about a person you know. Store their first name, last name, age,\n",
    "# and the city in which they live.\n",
    "info={'first_name':\"Barood\",'last_name':\"Khan\",'age':11,'city':\"Isl\"}\n",
    "print(info)\n"
   ]
  },
  {
   "cell_type": "code",
   "execution_count": 2,
   "metadata": {},
   "outputs": [
    {
     "name": "stdout",
     "output_type": "stream",
     "text": [
      "{'first_name': 'Barood', 'last_name': 'Khan', 'age': 11, 'city': 'Isl'}\n",
      "{'first_name': 'Barood', 'last_name': 'Khan', 'age': 11, 'city': 'Isl', 'Qualification': 'None'}\n",
      "{'first_name': 'Barood', 'last_name': 'Khan', 'age': 11, 'city': 'Isl', 'Qualification': 'High academic level'}\n",
      "{'first_name': 'Barood', 'last_name': 'Khan', 'age': 11, 'city': 'Isl'}\n"
     ]
    }
   ],
   "source": [
    "# Add a new key value pair about qualification then\n",
    "# update the qualification value to high academic level then delete it.# Add a new key value pair about qualification\n",
    "info={'first_name':\"Barood\",'last_name':\"Khan\",'age':11,'city':\"Isl\"}\n",
    "print(info)\n",
    "\n",
    "info.update({'Qualification':\"None\"})\n",
    "print(info)\n",
    "\n",
    "info.update({'Qualification':\"High academic level\"})\n",
    "print(info)\n",
    "\n",
    "info.pop(\"Qualification\",None)\n",
    "print(info)"
   ]
  },
  {
   "cell_type": "code",
   "execution_count": 3,
   "metadata": {},
   "outputs": [
    {
     "name": "stdout",
     "output_type": "stream",
     "text": [
      "{'Karachi': {'country': 'Pakistan', 'population': '14.91 million(2017)', 'fact': \"Karachi is vital to Pakistan's economy, contributing 42 per cent of GDP , 70 per cent of income tax revenue and 62 per cent of sales tax revenue.\"}, 'Bangkok': {'country': 'Thailand', 'population': '8.281 million', 'fact': 'Bangkok has the longest city name in the World.'}, 'Beijing': {'country': 'China', 'population': '21.54 million', 'fact': 'Beijing is one of the oldest cities in the world.'}}\n"
     ]
    }
   ],
   "source": [
    "# Make a dictionary called cities. Use the names of three cities as keys in your dictionary. Create a\n",
    "# dictionary of information about each city and include the country that the city is in, its approximate\n",
    "# population, and one fact about that city. The keys for each city’s dictionary should be something like\n",
    "# country, population, and fact. Print the name of each city and all of the information you have stored\n",
    "# about it.\n",
    "\n",
    "cities={\n",
    "        'Karachi':{'country':\"Pakistan\",'population':\"14.91 million(2017)\",'fact':\"Karachi is vital to Pakistan's economy, contributing 42 per cent of GDP , 70 per cent of income tax revenue and 62 per cent of sales tax revenue.\"},\n",
    "        'Bangkok':{'country':\"Thailand\",'population':\"8.281 million\",'fact':\"Bangkok has the longest city name in the World.\"},\n",
    "        'Beijing':{'country':\"China\",'population':\"21.54 million\",'fact':\"Beijing is one of the oldest cities in the world.\"}\n",
    "        }\n",
    "print(cities)"
   ]
  },
  {
   "cell_type": "code",
   "execution_count": 4,
   "metadata": {},
   "outputs": [
    {
     "name": "stdout",
     "output_type": "stream",
     "text": [
      "Enter your age 4\n",
      "The ticket is $10\n",
      "Enter your age 3\n",
      "The ticket is $10\n",
      "Enter your age 2\n",
      "The ticket is free\n",
      "Enter your age 15\n",
      "You are overage\n",
      "Enter your age 10\n",
      "The ticket is $10\n"
     ]
    }
   ],
   "source": [
    "# A movie theater charges different ticket prices depending on a person’s age. If a person is under the age\n",
    "# of 3, the ticket is free; if they are between 3 and 12, the ticket is $10; and if they are over age 12, the\n",
    "# ticket is $15. Write a loop in which you ask users their age, and then tell them the cost of their movie\n",
    "# ticket.\n",
    "for x in range (5):\n",
    "    age=0\n",
    "    age=int(input(\"Enter your age \")) \n",
    "    if age<3:\n",
    "        print(\"The ticket is free\")\n",
    "    elif age>=3 and age<12:\n",
    "        print(\"The ticket is $10\")\n",
    "    elif age>=12:\n",
    "        print(\"You are overage\")\n"
   ]
  },
  {
   "cell_type": "code",
   "execution_count": 5,
   "metadata": {},
   "outputs": [
    {
     "name": "stdout",
     "output_type": "stream",
     "text": [
      "One of my favourite books is Andhera\n",
      "One of my favourite books is Ujala\n",
      "One of my favourite books is Narnia\n"
     ]
    }
   ],
   "source": [
    "#Write a function called favorite_book() that accepts one parameter, title. The function should print a\n",
    "#message, such as One of my favorite books is Alice in Wonderland. Call the function, making sure to\n",
    "#include a book title as an argument in the function call.\n",
    "def favourite_book(title):\n",
    "    print (\"One of my favourite books is \" + title)\n",
    "\n",
    "favourite_book(\"Andhera\")\n",
    "favourite_book(\"Ujala\")\n",
    "favourite_book(\"Narnia\")"
   ]
  },
  {
   "cell_type": "code",
   "execution_count": 7,
   "metadata": {},
   "outputs": [
    {
     "name": "stdout",
     "output_type": "stream",
     "text": [
      "--Number Game--\n",
      "29\n",
      "Chance No:1\n",
      "Enter your number 29\n",
      "You have guessed the number correctly\n",
      "\n",
      "See you Again :)\n"
     ]
    }
   ],
   "source": [
    "# --Guess the number game--\n",
    "#Write a program which randomly generate a number between 1 to 30 and ask the user in input field to\n",
    "#guess the correct number. Give three chances to user guess the number and also give hint to user if\n",
    "#hidden number is greater or smaller than the number he given to input field.\n",
    "\n",
    "import random\n",
    "print (\"--Number Game--\")\n",
    "rand_num=0\n",
    "input_num=0\n",
    "rand_num=random.randrange(0, 31)\n",
    "\n",
    "for x in range(3):\n",
    "    \n",
    "    print(\"Chance No:\"+ str(x+1))\n",
    "    input_num=int(input(\"Enter your number \")) \n",
    "    if input_num==rand_num:\n",
    "            print(\"You have guessed the number correctly\\n\")\n",
    "            x=3\n",
    "            break\n",
    "    else:\n",
    "            if input_num<rand_num:\n",
    "                print(\"Try Again\\n\");\n",
    "                print(\"Hint: The number is greater than the number entered\\n\");\n",
    "            \n",
    "            if input_num>rand_num:\n",
    "                print(\"Try Again\\n\");\n",
    "                print(\"Hint: The number is less than the number entered\\n\");\n",
    "    \n",
    "print(\"See you Again :)\")"
   ]
  },
  {
   "cell_type": "code",
   "execution_count": null,
   "metadata": {},
   "outputs": [],
   "source": []
  }
 ],
 "metadata": {
  "kernelspec": {
   "display_name": "Python 3",
   "language": "python",
   "name": "python3"
  },
  "language_info": {
   "codemirror_mode": {
    "name": "ipython",
    "version": 3
   },
   "file_extension": ".py",
   "mimetype": "text/x-python",
   "name": "python",
   "nbconvert_exporter": "python",
   "pygments_lexer": "ipython3",
   "version": "3.7.4"
  }
 },
 "nbformat": 4,
 "nbformat_minor": 2
}
